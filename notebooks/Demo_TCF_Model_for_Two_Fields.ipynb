{
 "cells": [
  {
   "cell_type": "markdown",
   "id": "bf14b9c5",
   "metadata": {},
   "source": [
    "# Terrestrial Carbon Flux (TCF) Model Demo"
   ]
  },
  {
   "cell_type": "code",
   "execution_count": null,
   "id": "66df0876",
   "metadata": {},
   "outputs": [],
   "source": [
    "import numpy as np\n",
    "from matplotlib import pyplot\n",
    "\n",
    "%alias head head"
   ]
  },
  {
   "cell_type": "markdown",
   "id": "e3571aea",
   "metadata": {},
   "source": [
    "Here's a map of the location of one of our fields.\n",
    "\n",
    "![](assets/field_map.png)"
   ]
  },
  {
   "cell_type": "markdown",
   "id": "3ac71c80",
   "metadata": {},
   "source": [
    "And here's a satellite view.\n",
    "\n",
    "![](assets/field_satellite.png)"
   ]
  },
  {
   "cell_type": "markdown",
   "id": "a6c589c1",
   "metadata": {},
   "source": [
    "## Quick Example"
   ]
  },
  {
   "cell_type": "code",
   "execution_count": null,
   "id": "4988bbf9",
   "metadata": {},
   "outputs": [],
   "source": [
    "from agstack.models import TCF\n",
    "from agstack.drivers import drivers_for_tcf\n",
    "from agstack.io import drivers_from_csv, params_dict_from_json\n",
    "\n",
    "data, dates = drivers_from_csv('/home/arthur/Workspace/NTSG/projects/Y2023_Field-Scale_C_Flux/data/752731_field2_2D.csv')\n",
    "\n",
    "# Load driver (metorology)\n",
    "drivers = drivers_for_tcf(data)\n",
    "\n",
    "# Soil organic carbon state from SoilGrids 250m\n",
    "state = np.array([[150, 150, 450]]).T\n",
    "\n",
    "# Read in model parameters\n",
    "params = params_dict_from_json('../agstack/data/SPL4CMDL_V7_BPLUT.json')\n",
    "\n",
    "model = TCF(params, [7], state)\n",
    "model.spin_up(dates, drivers)\n",
    "\n",
    "nee, gpp, rh = model.forward_run(drivers)"
   ]
  },
  {
   "cell_type": "code",
   "execution_count": null,
   "id": "163e29b7",
   "metadata": {},
   "outputs": [],
   "source": [
    "pyplot.figure(figsize = (10, 5))\n",
    "pyplot.plot(dates, nee[0])\n",
    "pyplot.ylabel('Net Carbon Balance (g C m-2 day-1)')\n",
    "pyplot.show()"
   ]
  },
  {
   "cell_type": "markdown",
   "id": "66147650",
   "metadata": {},
   "source": [
    "## Step 1 of 3: Read in Data"
   ]
  },
  {
   "cell_type": "code",
   "execution_count": null,
   "id": "fa412ef8",
   "metadata": {},
   "outputs": [],
   "source": [
    "%head /home/arthur/Workspace/NTSG/projects/Y2023_Field-Scale_C_Flux/data/3e0165_field1_2D.csv"
   ]
  },
  {
   "cell_type": "code",
   "execution_count": null,
   "id": "51a0708d",
   "metadata": {},
   "outputs": [],
   "source": [
    "base_dir = '/home/arthur/Workspace/NTSG/projects/Y2023_Field-Scale_C_Flux/data/'\n",
    "field1, dates = drivers_from_csv(f'{base_dir}/3e0165_field1_2D.csv')\n",
    "field2, _     = drivers_from_csv(f'{base_dir}/752731_field2_2D.csv')\n",
    "\n",
    "# One field has a longer record than the other\n",
    "field2 = np.concatenate([field2, np.nan * np.ones((9,60))], axis = 1)\n",
    "\n",
    "# Create a (P x N x T) array for N fields, T time steps\n",
    "data = np.stack([field1, field2], axis = 0).swapaxes(0, 1)\n",
    "drivers = drivers_for_tcf(data)"
   ]
  },
  {
   "cell_type": "code",
   "execution_count": null,
   "id": "68d54e9c",
   "metadata": {},
   "outputs": [],
   "source": [
    "soc_state = np.array([150, 160]) # [g C m-2] in top 5 cm\n",
    "\n",
    "# Starting guess for SOC content in three (3) pools\n",
    "soc_state = soc_state * np.array([[1, 1, 3]]).T\n",
    "soc_state"
   ]
  },
  {
   "cell_type": "code",
   "execution_count": null,
   "id": "2a08b40b",
   "metadata": {},
   "outputs": [],
   "source": [
    "land_cover = [7, 7]\n",
    "params = params_dict_from_json('../agstack/data/SPL4CMDL_V7_BPLUT.json')"
   ]
  },
  {
   "cell_type": "markdown",
   "id": "2f627794",
   "metadata": {},
   "source": [
    "## Step 2 of 3: Spin-up Model"
   ]
  },
  {
   "cell_type": "code",
   "execution_count": null,
   "id": "df2dcc4e",
   "metadata": {},
   "outputs": [],
   "source": [
    "model = TCF(params, land_cover, soc_state)\n",
    "tolerance = model.spin_up(dates, drivers)"
   ]
  },
  {
   "cell_type": "code",
   "execution_count": null,
   "id": "937b6ea7",
   "metadata": {},
   "outputs": [],
   "source": [
    "pyplot.plot(tolerance.T)\n",
    "pyplot.xlabel('Annual Cycles')\n",
    "pyplot.ylabel('Change in Annual NEE Sum (g C m-2)')\n",
    "pyplot.show()"
   ]
  },
  {
   "cell_type": "code",
   "execution_count": null,
   "id": "f80c015f",
   "metadata": {},
   "outputs": [],
   "source": [
    "model.state.soc"
   ]
  },
  {
   "cell_type": "code",
   "execution_count": null,
   "id": "0f9b8d74",
   "metadata": {},
   "outputs": [],
   "source": [
    "model.state.soc.sum(axis = 0)"
   ]
  },
  {
   "cell_type": "markdown",
   "id": "d7be3fc2",
   "metadata": {},
   "source": [
    "## Step 3 of 3: Simulation!"
   ]
  },
  {
   "cell_type": "code",
   "execution_count": null,
   "id": "081eccd5",
   "metadata": {},
   "outputs": [],
   "source": [
    "gpp = model.gpp(drivers[0:6])\n",
    "\n",
    "pyplot.plot(dates, gpp[0])\n",
    "pyplot.xlabel('Time (days)')\n",
    "pyplot.ylabel('GPP (g C m-2 day-1)')\n",
    "pyplot.show()"
   ]
  },
  {
   "cell_type": "code",
   "execution_count": null,
   "id": "76a9e2f3",
   "metadata": {},
   "outputs": [],
   "source": [
    "nee, gpp, rh = model.forward_run(drivers)"
   ]
  },
  {
   "cell_type": "code",
   "execution_count": null,
   "id": "dee88946",
   "metadata": {},
   "outputs": [],
   "source": [
    "pyplot.figure(figsize = (10, 5))\n",
    "pyplot.plot(dates, nee[0] - nee[1])\n",
    "pyplot.ylabel('Diff. in Net Carbon Balance (g C m-2 day-1)')"
   ]
  }
 ],
 "metadata": {
  "kernelspec": {
   "display_name": "Python 3 (ipykernel)",
   "language": "python",
   "name": "python3"
  },
  "language_info": {
   "codemirror_mode": {
    "name": "ipython",
    "version": 3
   },
   "file_extension": ".py",
   "mimetype": "text/x-python",
   "name": "python",
   "nbconvert_exporter": "python",
   "pygments_lexer": "ipython3",
   "version": "3.8.10"
  }
 },
 "nbformat": 4,
 "nbformat_minor": 5
}
